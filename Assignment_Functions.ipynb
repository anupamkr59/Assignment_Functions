{
  "nbformat": 4,
  "nbformat_minor": 0,
  "metadata": {
    "colab": {
      "provenance": []
    },
    "kernelspec": {
      "name": "python3",
      "display_name": "Python 3"
    },
    "language_info": {
      "name": "python"
    }
  },
  "cells": [
    {
      "cell_type": "markdown",
      "source": [
        "Functions\n",
        "\n",
        "1. What is the difference between a function and a method in Python\n",
        "\n",
        "Ans. A function is a block of reusable code that performs a specific task and Method is a function that is associated with an object and defined in a class.\n",
        "\n",
        "Function can be called independently and Method is called by an object of a class."
      ],
      "metadata": {
        "id": "mGhV0C4fuZoE"
      }
    },
    {
      "cell_type": "markdown",
      "source": [
        "2. Explain the concept of function arguments and parameters in Python.\n",
        "\n",
        "Ans. Arguments:- These are the actual values provided to the function while calling it.\n",
        "\n",
        "Parameters;- There are the avriable names where parameters are passed while calling the function. Parameters are created while defining the function as a placeholder to hold the value of argument\n",
        "\n",
        "ex:- def func(a,b): >> a,b are parameters\n",
        "      return a+b\n",
        "\n",
        "      func(4,5) >> 4,5 are arguments\n",
        "\n"
      ],
      "metadata": {
        "id": "IGYnl0b-FhoG"
      }
    },
    {
      "cell_type": "markdown",
      "source": [
        "3. What are the different ways to define and call a function in Python\n",
        "\n",
        "Ans. 1. Basic Function Definition & Call\n",
        "      ex:- def greet(name)  \n",
        "              return f\"Hello, {name}\"\n",
        "\n",
        "           greet(\"Anupam\")\n",
        "\n",
        "2. Function with Default Arguments\n",
        "ex:- def add(a,b=4)\n",
        "         return a+b\n",
        "\n",
        "     add(4)\n",
        "\n",
        "3.  Function with Multiple Parameters\n",
        "ex:- def add(a,b)\n",
        "         return a+b\n",
        "\n",
        "     add(4,5)\n",
        "\n",
        "4. Function with Variable Arguments\n",
        "ex:- def add(*a)\n",
        "         return sum(a)\n",
        "\n",
        "     add(4,5,6)\n",
        "\n",
        "5. Function with Keyword Arguments\n",
        "ex:- def person(**info):\n",
        "        return info\n",
        "\n",
        "print(person(name=\"Alice\", age=30, city=\"NYC\"))\n",
        "\n",
        "6. Lambda Function\n",
        "ex:- add = lambda x,y:x+y\n",
        "print(add(5,3))\n",
        "\n",
        "7. Recursive Function\n",
        "ex:- def factorial(n):\n",
        "        if n == 0:\n",
        "        return 1\n",
        "      return n * factorial(n - 1)\n",
        "\n",
        "print(factorial(5))"
      ],
      "metadata": {
        "id": "0uuYJzzVGyhx"
      }
    },
    {
      "cell_type": "markdown",
      "source": [
        "4. What is the purpose of the return statement in a Python function\n",
        "\n",
        "Ans. The return statement in Python is used to send a value(or multiple values) from a function back to the caller"
      ],
      "metadata": {
        "id": "1Fkrc0BpLRFs"
      }
    },
    {
      "cell_type": "markdown",
      "source": [
        "5. What are iterators in Python and how do they differ from iterables\n",
        "\n",
        "Ans. Iterators are object that represents a stream of data and produces value one at a time.\n",
        "Iter() and Next() is used to create an object and produce a value\n",
        "\n",
        "Iterables are like list and tuple use to print values in one go after all the computation."
      ],
      "metadata": {
        "id": "TT9hElAJMXIR"
      }
    },
    {
      "cell_type": "markdown",
      "source": [
        "6. Explain the concept of generators in Python and how they are defined.\n",
        "\n",
        "Ans. Generators are type of iterator used to produce a value one by one using Yield() and Next().Yield() is use to return a value and next() is use to produce the value."
      ],
      "metadata": {
        "id": "-eSzQ1_LUjWz"
      }
    },
    {
      "cell_type": "markdown",
      "source": [
        "7.  What are the advantages of using generators over regular functions\n",
        "\n",
        "Ans. Generators are use to produce a value step by step which helps in generating values faster than regular functions. It is helpful computing large data set and memory efficient"
      ],
      "metadata": {
        "id": "zxNV4buwVGOx"
      }
    },
    {
      "cell_type": "markdown",
      "source": [
        "8. What is a lambda function in Python and when is it typically used\n",
        "\n",
        "Ans. Lambda is an anonymous function used to shorten the length of function and can have multiple arguments but only one expression.\n",
        "Syntax >> lambda argument, expression\n",
        "\n",
        "It is used basically for short,simple operation where defining the function is unnecessary"
      ],
      "metadata": {
        "id": "XEn6XftKWRaB"
      }
    },
    {
      "cell_type": "markdown",
      "source": [
        "9.  Explain the purpose and usage of the `map()` function in Python\n",
        "\n",
        "Ans. Map() function is used to map the function with every item in an iterable and return a new iterable.\n",
        "Syntax>>map(function, iterable)"
      ],
      "metadata": {
        "id": "ql4rRKAoW65l"
      }
    },
    {
      "cell_type": "markdown",
      "source": [
        "10. What is the difference between `map()`, `reduce()`, and `filter()` functions in Python\n",
        "\n",
        "Ans. Map() function is used to map the function with every item in an iterable and returns an iterator with different values\n",
        "ex:- Changing the values of each item in an iterable\n",
        "syntax- map(function,iterable)\n",
        "\n",
        "Reduce() function is used to reduce the value in a single output of an iterable\n",
        "ex:-To print sum,product of nos.\n",
        "syntax- reduce(function,iterable)\n",
        "\n",
        "Filter() function is used to return the value based on a condition from an iterable\n",
        "ex:- To print even no. from a list\n",
        "syntax- filter(function,iterable)"
      ],
      "metadata": {
        "id": "rNpJ24wZYWyv"
      }
    },
    {
      "cell_type": "markdown",
      "source": [
        "11. Using pen & Paper write the internal mechanism for sum operation using  reduce function on this given\n",
        "list:[47,11,42,13];\n",
        "\n",
        "Ans. Sum\n",
        "from functools import reduce\n",
        "l1=[47,11,42,13]\n",
        "result=reduce(lambda x,y:x+y, l1)\n",
        "print(result)\n",
        "\n",
        "Internal Mechanism\n",
        "Step1: X=47 ; y=11 ; Operation=47+11 ; result=58\n",
        "Step2: X=58 ; y=42 ; Operation=58+42 ; result=100\n",
        "Step3: X=100 ; y=13 ; Operation=100+13 ; result=113\n",
        "\n",
        "Final Result= 113\n",
        "\n"
      ],
      "metadata": {
        "id": "kJ7UDrGbZj2G"
      }
    },
    {
      "cell_type": "code",
      "source": [
        "#Practical\n",
        "#1. Write a Python function that takes a list of numbers as input and returns the sum of all even numbers in\n",
        "#the list\n",
        "\n",
        "def sum_eve(l1):\n",
        "  sum1=0\n",
        "  for i in l1:\n",
        "    if i% 2==0:\n",
        "      sum1=i+sum1\n",
        "  return(sum1)\n",
        "\n",
        "lis = input(\"Enter numbers to print sum seperated space \")\n",
        "l1=list(map(int,lis.split()))\n",
        "\n",
        "#l1=[1,2,3,4,5,6,7,8]\n",
        "result=sum_eve(l1)\n",
        "print(result)\n",
        "\n"
      ],
      "metadata": {
        "colab": {
          "base_uri": "https://localhost:8080/"
        },
        "id": "a8P-2P_tLLF5",
        "outputId": "8986be3e-95bb-43c3-b6db-3e88114d3b42"
      },
      "execution_count": null,
      "outputs": [
        {
          "output_type": "stream",
          "name": "stdout",
          "text": [
            "Enter numbers to print sum seperated space 1 2 3 4 5 6 7 8\n",
            "20\n"
          ]
        }
      ]
    },
    {
      "cell_type": "code",
      "source": [
        "#Alternative way 11\n",
        "l1=[1,2,3,4,5,6,7,8]\n",
        "sum1=0\n",
        "result=sum(filter(lambda x:x % 2==0, l1))\n",
        "print(result)"
      ],
      "metadata": {
        "colab": {
          "base_uri": "https://localhost:8080/"
        },
        "id": "RBt3MT3nb4NG",
        "outputId": "1f6e144c-404e-4ab4-8259-2f293568dbe3"
      },
      "execution_count": null,
      "outputs": [
        {
          "output_type": "stream",
          "name": "stdout",
          "text": [
            "20\n"
          ]
        }
      ]
    },
    {
      "cell_type": "code",
      "source": [
        "#2. Create a Python function that accepts a string and returns the reverse of that string\n",
        "\n",
        "def reversed(a):\n",
        "  return a[::-1]\n",
        "\n",
        "s=input(\" Enter a String \")\n",
        "print(reversed(s))"
      ],
      "metadata": {
        "colab": {
          "base_uri": "https://localhost:8080/"
        },
        "id": "cpzY16sAc8dn",
        "outputId": "a47a2027-1de3-4dea-aa37-cead05d852dc"
      },
      "execution_count": null,
      "outputs": [
        {
          "output_type": "stream",
          "name": "stdout",
          "text": [
            " Enter a String anupam\n",
            "mapuna\n"
          ]
        }
      ]
    },
    {
      "cell_type": "code",
      "source": [
        "#3. Implement a Python function that takes a list of integers and returns a new list containing the squares of\n",
        "#each number.\n",
        "\n",
        "def squar(l1):\n",
        "  l2=[]\n",
        "  for i in l1:\n",
        "    l2.append(i**2)\n",
        "  return l2\n",
        "\n",
        "l1=[1,2,3,4,5]\n",
        "print(squar(l1))\n"
      ],
      "metadata": {
        "colab": {
          "base_uri": "https://localhost:8080/"
        },
        "id": "S8yKL45XgcX0",
        "outputId": "6f9fd8d1-06f5-4918-b6c6-3e016942e67b"
      },
      "execution_count": null,
      "outputs": [
        {
          "output_type": "stream",
          "name": "stdout",
          "text": [
            "[1, 4, 9, 16, 25]\n"
          ]
        }
      ]
    },
    {
      "cell_type": "code",
      "source": [
        "#Another way\n",
        "l1=[1,2,3,4,5]\n",
        "l2=list(map(lambda x:x**2,l1))\n",
        "print(l2)"
      ],
      "metadata": {
        "colab": {
          "base_uri": "https://localhost:8080/"
        },
        "id": "D1C-XOLDjM26",
        "outputId": "7e180328-a78e-49b2-b1dc-f9948a7de231"
      },
      "execution_count": null,
      "outputs": [
        {
          "output_type": "stream",
          "name": "stdout",
          "text": [
            "[1, 4, 9, 16, 25]\n"
          ]
        }
      ]
    },
    {
      "cell_type": "code",
      "source": [
        "#4. Write a Python function that checks if a given number is prime or not from 1 to 200\n",
        "def prime_no(n):\n",
        "    if n < 2:\n",
        "        print(\"Neither prime nor composite\")\n",
        "        return\n",
        "    i = 1\n",
        "    count = 0\n",
        "    while i <= n:\n",
        "        if n % i == 0:\n",
        "            count += 1\n",
        "        i += 1\n",
        "\n",
        "    if count == 2:\n",
        "        print(\"Prime number\")\n",
        "    else:\n",
        "        print(\"Not a prime number\")\n",
        "\n",
        "input_no = int(input(\"Enter a number (between 1 and 200): \"))\n",
        "prime_no(input_no)\n",
        "\n"
      ],
      "metadata": {
        "colab": {
          "base_uri": "https://localhost:8080/"
        },
        "id": "7W04hPnHlGjv",
        "outputId": "8109ab8c-93f3-4db9-e9d8-877e9975b75b"
      },
      "execution_count": null,
      "outputs": [
        {
          "output_type": "stream",
          "name": "stdout",
          "text": [
            "Enter a number (between 1 and 200): 5\n",
            "Prime number\n"
          ]
        }
      ]
    },
    {
      "cell_type": "code",
      "source": [
        "#5. Create an iterator class in Python that generates the Fibonacci sequence up to a specified number of\n",
        "#terms.\n",
        "\n",
        "#How to create class is not yet covered\n",
        "\n",
        "#Function for Fibonacci Series\n",
        "\n",
        "fib = lambda n: n if n<=1 else fib(n-1) + fib(n-2)\n",
        "[fib(i) for i in range(10)]"
      ],
      "metadata": {
        "colab": {
          "base_uri": "https://localhost:8080/"
        },
        "id": "nlmLhJYYo4-N",
        "outputId": "82b572aa-9710-40ca-bb16-95769273fcef"
      },
      "execution_count": null,
      "outputs": [
        {
          "output_type": "execute_result",
          "data": {
            "text/plain": [
              "[0, 1, 1, 2, 3, 5, 8, 13, 21, 34]"
            ]
          },
          "metadata": {},
          "execution_count": 40
        }
      ]
    },
    {
      "cell_type": "code",
      "source": [
        "#6. Write a generator function in Python that yields the powers of 2 up to a given exponent\n",
        "\n",
        "def power_of_two(exponent):\n",
        "    n = 0\n",
        "    while n <= exponent:\n",
        "        yield 2 ** n\n",
        "        n += 1\n",
        "\n",
        "exp = int(input(\"Enter the maximum exponent: \"))\n",
        "for num in power_of_two(exp):\n",
        "    print(num, end=\" \")"
      ],
      "metadata": {
        "colab": {
          "base_uri": "https://localhost:8080/"
        },
        "id": "c66GJVt1rjqf",
        "outputId": "a1d07acd-270c-4015-8add-2abf5c9f3889"
      },
      "execution_count": 1,
      "outputs": [
        {
          "output_type": "stream",
          "name": "stdout",
          "text": [
            "Enter the maximum exponent: 6\n",
            "1 2 4 8 16 32 64 "
          ]
        }
      ]
    },
    {
      "cell_type": "code",
      "source": [
        "#7.  Implement a generator function that reads a file line by line and yields each line as a string.\n",
        "\n",
        "#This topic is not covered\n",
        "def read_file_line_by_line(file_path):\n",
        "\n",
        "    with open(file_path, 'r', encoding='utf-8') as file:\n",
        "        for line in file:\n",
        "            yield line.strip()\n",
        "\n",
        "\n",
        "file_path = \"example.txt\"\n",
        "for line in read_file_line_by_line(file_path):\n",
        "    print(line)"
      ],
      "metadata": {
        "colab": {
          "base_uri": "https://localhost:8080/",
          "height": 315
        },
        "id": "yTOjoh-QOaCx",
        "outputId": "c8917845-a66e-42b5-d507-8169a4955bd1"
      },
      "execution_count": 2,
      "outputs": [
        {
          "output_type": "error",
          "ename": "FileNotFoundError",
          "evalue": "[Errno 2] No such file or directory: 'example.txt'",
          "traceback": [
            "\u001b[0;31m---------------------------------------------------------------------------\u001b[0m",
            "\u001b[0;31mFileNotFoundError\u001b[0m                         Traceback (most recent call last)",
            "\u001b[0;32m<ipython-input-2-97db357d1eef>\u001b[0m in \u001b[0;36m<cell line: 0>\u001b[0;34m()\u001b[0m\n\u001b[1;32m     10\u001b[0m \u001b[0;34m\u001b[0m\u001b[0m\n\u001b[1;32m     11\u001b[0m \u001b[0mfile_path\u001b[0m \u001b[0;34m=\u001b[0m \u001b[0;34m\"example.txt\"\u001b[0m\u001b[0;34m\u001b[0m\u001b[0;34m\u001b[0m\u001b[0m\n\u001b[0;32m---> 12\u001b[0;31m \u001b[0;32mfor\u001b[0m \u001b[0mline\u001b[0m \u001b[0;32min\u001b[0m \u001b[0mread_file_line_by_line\u001b[0m\u001b[0;34m(\u001b[0m\u001b[0mfile_path\u001b[0m\u001b[0;34m)\u001b[0m\u001b[0;34m:\u001b[0m\u001b[0;34m\u001b[0m\u001b[0;34m\u001b[0m\u001b[0m\n\u001b[0m\u001b[1;32m     13\u001b[0m     \u001b[0mprint\u001b[0m\u001b[0;34m(\u001b[0m\u001b[0mline\u001b[0m\u001b[0;34m)\u001b[0m\u001b[0;34m\u001b[0m\u001b[0;34m\u001b[0m\u001b[0m\n",
            "\u001b[0;32m<ipython-input-2-97db357d1eef>\u001b[0m in \u001b[0;36mread_file_line_by_line\u001b[0;34m(file_path)\u001b[0m\n\u001b[1;32m      4\u001b[0m \u001b[0;32mdef\u001b[0m \u001b[0mread_file_line_by_line\u001b[0m\u001b[0;34m(\u001b[0m\u001b[0mfile_path\u001b[0m\u001b[0;34m)\u001b[0m\u001b[0;34m:\u001b[0m\u001b[0;34m\u001b[0m\u001b[0;34m\u001b[0m\u001b[0m\n\u001b[1;32m      5\u001b[0m \u001b[0;34m\u001b[0m\u001b[0m\n\u001b[0;32m----> 6\u001b[0;31m     \u001b[0;32mwith\u001b[0m \u001b[0mopen\u001b[0m\u001b[0;34m(\u001b[0m\u001b[0mfile_path\u001b[0m\u001b[0;34m,\u001b[0m \u001b[0;34m'r'\u001b[0m\u001b[0;34m,\u001b[0m \u001b[0mencoding\u001b[0m\u001b[0;34m=\u001b[0m\u001b[0;34m'utf-8'\u001b[0m\u001b[0;34m)\u001b[0m \u001b[0;32mas\u001b[0m \u001b[0mfile\u001b[0m\u001b[0;34m:\u001b[0m\u001b[0;34m\u001b[0m\u001b[0;34m\u001b[0m\u001b[0m\n\u001b[0m\u001b[1;32m      7\u001b[0m         \u001b[0;32mfor\u001b[0m \u001b[0mline\u001b[0m \u001b[0;32min\u001b[0m \u001b[0mfile\u001b[0m\u001b[0;34m:\u001b[0m\u001b[0;34m\u001b[0m\u001b[0;34m\u001b[0m\u001b[0m\n\u001b[1;32m      8\u001b[0m             \u001b[0;32myield\u001b[0m \u001b[0mline\u001b[0m\u001b[0;34m.\u001b[0m\u001b[0mstrip\u001b[0m\u001b[0;34m(\u001b[0m\u001b[0;34m)\u001b[0m\u001b[0;34m\u001b[0m\u001b[0;34m\u001b[0m\u001b[0m\n",
            "\u001b[0;31mFileNotFoundError\u001b[0m: [Errno 2] No such file or directory: 'example.txt'"
          ]
        }
      ]
    },
    {
      "cell_type": "code",
      "source": [
        "#8. Use a lambda function in Python to sort a list of tuples based on the second element of each tuple.\n",
        "l1 = [(1, 5), (3, 2), (8, 7), (4, 1)]\n",
        "\n",
        "l2 = sorted(l1, key=lambda x: x[1])\n",
        "\n",
        "print(l2)"
      ],
      "metadata": {
        "colab": {
          "base_uri": "https://localhost:8080/"
        },
        "id": "Fwasyi5CPUW3",
        "outputId": "754b897a-2a9a-4542-95c7-3b6b8fdd4cb1"
      },
      "execution_count": 7,
      "outputs": [
        {
          "output_type": "stream",
          "name": "stdout",
          "text": [
            "[(4, 1), (3, 2), (1, 5), (8, 7)]\n"
          ]
        }
      ]
    },
    {
      "cell_type": "code",
      "source": [
        "#9.  Write a Python program that uses `map()` to convert a list of temperatures from Celsius to Fahrenheit\n",
        "celsius_temp=[32,45,76,38,26]\n",
        "fahrenheit_temp=list(map(lambda x:(x*9/5)+32, celsius_temp))\n",
        "print(f\"The list of fahrenheit temp is {fahrenheit_temp}\")"
      ],
      "metadata": {
        "colab": {
          "base_uri": "https://localhost:8080/"
        },
        "id": "DjNT-1g3P65U",
        "outputId": "3d7f656c-ed6d-47d3-ef39-b089f3e5d950"
      },
      "execution_count": 10,
      "outputs": [
        {
          "output_type": "stream",
          "name": "stdout",
          "text": [
            "The list of fahrenheit temp is [89.6, 113.0, 168.8, 100.4, 78.8]\n"
          ]
        }
      ]
    },
    {
      "cell_type": "code",
      "source": [
        "#10.Create a Python program that uses `filter()` to remove all the vowels from a given string\n",
        "input_string=input(\"Enter a string \")\n",
        "remove_vowels = lambda s: ''.join(filter(lambda c: c.lower() not in 'aeiou', s))\n",
        "print(remove_vowels(input_string))"
      ],
      "metadata": {
        "colab": {
          "base_uri": "https://localhost:8080/"
        },
        "id": "JBDg9wOURu43",
        "outputId": "08c50b5d-a4aa-4187-db7f-1a97dc18aafd"
      },
      "execution_count": 14,
      "outputs": [
        {
          "output_type": "stream",
          "name": "stdout",
          "text": [
            "Enter a string anupam\n",
            "npm\n"
          ]
        }
      ]
    },
    {
      "cell_type": "code",
      "source": [
        "#11.Imagine an accounting routine used in a book shop. It works on a list with sublists, which look like this:\n",
        "#Write a Python program, which returns a list with 2-tuples. Each tuple consists of the order number and the\n",
        "#product of the price per item and the quantity. The product should be increased by 10,- € if the value of the\n",
        "#order is smaller than 100,00 €.\n",
        "#Write a Python program using lambda and map.\n",
        "\n"
      ],
      "metadata": {
        "id": "IHgkAZqvTKrU"
      },
      "execution_count": null,
      "outputs": []
    }
  ]
}